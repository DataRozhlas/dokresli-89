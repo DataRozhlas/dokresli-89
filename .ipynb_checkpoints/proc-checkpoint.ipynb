{
 "cells": [
  {
   "cell_type": "code",
   "execution_count": 1,
   "metadata": {},
   "outputs": [
    {
     "name": "stdout",
     "output_type": "stream",
     "text": [
      "[{'year': 1989, 'value': 75.5}, {'year': 1990, 'value': 75.4}, {'year': 1991, 'value': 75.8}, {'year': 1992, 'value': 76.2}, {'year': 1993, 'value': 76.5}, {'year': 1994, 'value': 76.7}, {'year': 1995, 'value': 76.7}, {'year': 1996, 'value': 77.4}, {'year': 1997, 'value': 77.5}, {'year': 1998, 'value': 78.0}, {'year': 1999, 'value': 78.1}, {'year': 2000, 'value': 78.4}, {'year': 2001, 'value': 78.5}, {'year': 2002, 'value': 78.7}, {'year': 2003, 'value': 78.6}, {'year': 2004, 'value': 79.2}, {'year': 2005, 'value': 79.3}, {'year': 2006, 'value': 79.9}, {'year': 2007, 'value': 80.1}, {'year': 2008, 'value': 80.3}, {'year': 2009, 'value': 80.3}, {'year': 2010, 'value': 80.6}, {'year': 2011, 'value': 80.8}, {'year': 2012, 'value': 81.0}, {'year': 2013, 'value': 81.2}, {'year': 2014, 'value': 81.7}, {'year': 2015, 'value': 81.5}, {'year': 2016, 'value': 81.8}]\n"
     ]
    }
   ],
   "source": [
    "import re\n",
    "data = \"Průměrný věk matky při narození prvního dítěte\t22,5 \t22,5 \t22,4 \t22,5 \t22,6 \t22,9 \t23,3 \t23,7 \t24,0 \t24,4 \t24,6 \t24,9 \t25,3 \t25,6 \t25,9 \t26,3 \t26,6 \t26,9 \t27,1 \t27,3 \t27,4 \t27,6 \t27,8 \t27,9 \t28,1 \t28,1 \t28,2 \t28,2 \t28,2 \"\n",
    "split = re.split(\"\\t\", data)\n",
    "corr = [float(el.strip().replace(\",\",\".\")) for el in split[1:]]\n",
    "print([{\"year\": i, \"value\": corr[i-1989]} for i in range(1989, 2017)])"
   ]
  }
 ],
 "metadata": {
  "kernelspec": {
   "display_name": "Python 3",
   "language": "python",
   "name": "python3"
  },
  "language_info": {
   "codemirror_mode": {
    "name": "ipython",
    "version": 3
   },
   "file_extension": ".py",
   "mimetype": "text/x-python",
   "name": "python",
   "nbconvert_exporter": "python",
   "pygments_lexer": "ipython3",
   "version": "3.8.0"
  }
 },
 "nbformat": 4,
 "nbformat_minor": 4
}
