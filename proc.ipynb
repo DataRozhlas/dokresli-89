{
 "cells": [
  {
   "cell_type": "code",
   "execution_count": 8,
   "metadata": {},
   "outputs": [
    {
     "name": "stdout",
     "output_type": "stream",
     "text": [
      "[{'year': 1989, 'value': 1459.0}, {'year': 1990, 'value': 624.0}, {'year': 1991, 'value': 2876.0}, {'year': 1992, 'value': 11781.0}, {'year': 1993, 'value': 5476.0}, {'year': 1994, 'value': 9942.0}, {'year': 1995, 'value': 9999.0}, {'year': 1996, 'value': 10129.0}, {'year': 1997, 'value': 12075.0}, {'year': 1998, 'value': 9488.0}, {'year': 1999, 'value': 8774.0}, {'year': 2000, 'value': 6539.0}, {'year': 2001, 'value': -8551.0}, {'year': 2002, 'value': 12290.0}, {'year': 2003, 'value': 25789.0}, {'year': 2004, 'value': 18635.0}, {'year': 2005, 'value': 36229.0}, {'year': 2006, 'value': 34720.0}, {'year': 2007, 'value': 83945.0}, {'year': 2008, 'value': 71790.0}, {'year': 2009, 'value': 28344.0}, {'year': 2010, 'value': 15648.0}, {'year': 2011, 'value': 16889.0}, {'year': 2012, 'value': 10293.0}, {'year': 2013, 'value': -1297.0}, {'year': 2014, 'value': 21661.0}, {'year': 2015, 'value': 15977.0}, {'year': 2016, 'value': 20064.0}]\n"
     ]
    }
   ],
   "source": [
    "import re\n",
    "data = \"Přírůstek stěhováním\t1 459 \t624 \t2 876 \t11 781 \t5 476 \t9 942 \t9 999 \t10 129 \t12 075 \t9 488 \t8 774 \t6 539 \t-8 551 \t12 290 \t25 789 \t18 635 \t36 229 \t34 720 \t83 945 \t71 790 \t28 344 \t15 648 \t16 889 \t10 293 \t-1 297 \t21 661 \t15 977 \t20 064 \t28 273 \"\n",
    "split = re.split(\"\\t\", data)\n",
    "corr = [float(el.strip().replace(\",\",\".\").replace(\"\\xa0\", \"\")) for el in split[1:]]\n",
    "print([{\"year\": i, \"value\": corr[i-1989]} for i in range(1989, 2017)])"
   ]
  },
  {
   "cell_type": "code",
   "execution_count": 10,
   "metadata": {},
   "outputs": [
    {
     "name": "stdout",
     "output_type": "stream",
     "text": [
      "[{'year': 2000, 'value': 11965.0}, {'year': 2001, 'value': 14321.0}, {'year': 2002, 'value': 14278.0}, {'year': 2003, 'value': 16451.0}, {'year': 2004, 'value': 15749.0}, {'year': 2005, 'value': 15350.0}, {'year': 2006, 'value': 17019.0}, {'year': 2007, 'value': 18029.0}, {'year': 2008, 'value': 18520.0}, {'year': 2009, 'value': 17598.0}, {'year': 2010, 'value': 17054.0}, {'year': 2011, 'value': 18985.0}, {'year': 2012, 'value': 17247.0}, {'year': 2013, 'value': 17876.0}, {'year': 2014, 'value': 18379.0}, {'year': 2015, 'value': 18282.0}, {'year': 2016, 'value': 17815.0}]\n"
     ]
    }
   ],
   "source": [
    "data = \"Knihy (tituly)\t11 965\t14 321\t14 278\t16 451 \t15 749\t15 350\t17 019\t18 029\t18 520\t17 598\t17 054\t18 985\t17 247\t17 876\t18 379\t18 282\t17 815\t16 422\"\n",
    "split = re.split(\"\\t\", data)\n",
    "corr = [float(el.strip().replace(\",\",\".\").replace(\"\\xa0\", \"\")) for el in split[1:]]\n",
    "print([{\"year\": i, \"value\": corr[i-2000]} for i in range(2000, 2017)])"
   ]
  }
 ],
 "metadata": {
  "kernelspec": {
   "display_name": "Python 3",
   "language": "python",
   "name": "python3"
  },
  "language_info": {
   "codemirror_mode": {
    "name": "ipython",
    "version": 3
   },
   "file_extension": ".py",
   "mimetype": "text/x-python",
   "name": "python",
   "nbconvert_exporter": "python",
   "pygments_lexer": "ipython3",
   "version": "3.8.0"
  }
 },
 "nbformat": 4,
 "nbformat_minor": 4
}
